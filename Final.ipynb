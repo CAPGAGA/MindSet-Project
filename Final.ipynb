{
 "cells": [
  {
   "cell_type": "code",
   "execution_count": 2,
   "metadata": {},
   "outputs": [],
   "source": [
    "import numpy as np\n",
    "import pandas as pd\n",
    "import seaborn as sns\n",
    "import matplotlib.pyplot as plt\n",
    "\n",
    "from sklearn import ensemble\n",
    "from sklearn import metrics\n",
    "from sklearn import model_selection\n",
    "from sklearn import decomposition\n",
    "from sklearn import preprocessing\n",
    "from sklearn import base\n",
    "\n",
    "from sklearn import pipeline\n",
    "from functools import partial\n",
    "from skopt import space\n",
    "from skopt import gp_minimize"
   ]
  },
  {
   "cell_type": "code",
   "execution_count": 83,
   "metadata": {},
   "outputs": [],
   "source": [
    "df = pd.read_csv('../My Python Stuff/Задача 1/Прогнозирование пролонгации/Данные для задачи.txt',sep=\";\")"
   ]
  },
  {
   "cell_type": "code",
   "execution_count": 84,
   "metadata": {},
   "outputs": [
    {
     "data": {
      "text/html": [
       "<div>\n",
       "<style scoped>\n",
       "    .dataframe tbody tr th:only-of-type {\n",
       "        vertical-align: middle;\n",
       "    }\n",
       "\n",
       "    .dataframe tbody tr th {\n",
       "        vertical-align: top;\n",
       "    }\n",
       "\n",
       "    .dataframe thead th {\n",
       "        text-align: right;\n",
       "    }\n",
       "</style>\n",
       "<table border=\"1\" class=\"dataframe\">\n",
       "  <thead>\n",
       "    <tr style=\"text-align: right;\">\n",
       "      <th></th>\n",
       "      <th>DATA_TYPE</th>\n",
       "      <th>POLICY_ID</th>\n",
       "      <th>POLICY_BEGIN_MONTH</th>\n",
       "      <th>POLICY_END_MONTH</th>\n",
       "      <th>POLICY_IS_RENEWED</th>\n",
       "      <th>POLICY_SALES_CHANNEL</th>\n",
       "      <th>POLICY_SALES_CHANNEL_GROUP</th>\n",
       "      <th>POLICY_BRANCH</th>\n",
       "      <th>POLICY_MIN_AGE</th>\n",
       "      <th>POLICY_MIN_DRIVING_EXPERIENCE</th>\n",
       "      <th>...</th>\n",
       "      <th>POLICY_PRV_CLM_GLT_N</th>\n",
       "      <th>CLIENT_HAS_DAGO</th>\n",
       "      <th>CLIENT_HAS_OSAGO</th>\n",
       "      <th>POLICY_COURT_SIGN</th>\n",
       "      <th>CLAIM_AVG_ACC_ST_PRD</th>\n",
       "      <th>POLICY_HAS_COMPLAINTS</th>\n",
       "      <th>POLICY_YEARS_RENEWED_N</th>\n",
       "      <th>POLICY_DEDUCT_VALUE</th>\n",
       "      <th>CLIENT_REGISTRATION_REGION</th>\n",
       "      <th>POLICY_PRICE_CHANGE</th>\n",
       "    </tr>\n",
       "  </thead>\n",
       "  <tbody>\n",
       "    <tr>\n",
       "      <th>0</th>\n",
       "      <td>TRAIN</td>\n",
       "      <td>1</td>\n",
       "      <td>1</td>\n",
       "      <td>1</td>\n",
       "      <td>1</td>\n",
       "      <td>39</td>\n",
       "      <td>1</td>\n",
       "      <td>Москва</td>\n",
       "      <td>51</td>\n",
       "      <td>12</td>\n",
       "      <td>...</td>\n",
       "      <td>N</td>\n",
       "      <td>1</td>\n",
       "      <td>0</td>\n",
       "      <td>0</td>\n",
       "      <td>0.0</td>\n",
       "      <td>0</td>\n",
       "      <td>0</td>\n",
       "      <td>0.0</td>\n",
       "      <td>Тульская</td>\n",
       "      <td>-1.00</td>\n",
       "    </tr>\n",
       "    <tr>\n",
       "      <th>1</th>\n",
       "      <td>TRAIN</td>\n",
       "      <td>2</td>\n",
       "      <td>1</td>\n",
       "      <td>1</td>\n",
       "      <td>1</td>\n",
       "      <td>50</td>\n",
       "      <td>5</td>\n",
       "      <td>Москва</td>\n",
       "      <td>35</td>\n",
       "      <td>7</td>\n",
       "      <td>...</td>\n",
       "      <td>0</td>\n",
       "      <td>1</td>\n",
       "      <td>1</td>\n",
       "      <td>0</td>\n",
       "      <td>0.0</td>\n",
       "      <td>0</td>\n",
       "      <td>4</td>\n",
       "      <td>0.0</td>\n",
       "      <td>Москва</td>\n",
       "      <td>-0.05</td>\n",
       "    </tr>\n",
       "    <tr>\n",
       "      <th>2</th>\n",
       "      <td>TRAIN</td>\n",
       "      <td>3</td>\n",
       "      <td>1</td>\n",
       "      <td>1</td>\n",
       "      <td>1</td>\n",
       "      <td>52</td>\n",
       "      <td>6</td>\n",
       "      <td>Москва</td>\n",
       "      <td>41</td>\n",
       "      <td>6</td>\n",
       "      <td>...</td>\n",
       "      <td>1L</td>\n",
       "      <td>0</td>\n",
       "      <td>0</td>\n",
       "      <td>0</td>\n",
       "      <td>0.0</td>\n",
       "      <td>0</td>\n",
       "      <td>1</td>\n",
       "      <td>12518.0</td>\n",
       "      <td>Московская</td>\n",
       "      <td>-0.07</td>\n",
       "    </tr>\n",
       "    <tr>\n",
       "      <th>3</th>\n",
       "      <td>TRAIN</td>\n",
       "      <td>4</td>\n",
       "      <td>1</td>\n",
       "      <td>1</td>\n",
       "      <td>1</td>\n",
       "      <td>50</td>\n",
       "      <td>5</td>\n",
       "      <td>Москва</td>\n",
       "      <td>36</td>\n",
       "      <td>12</td>\n",
       "      <td>...</td>\n",
       "      <td>0</td>\n",
       "      <td>1</td>\n",
       "      <td>1</td>\n",
       "      <td>0</td>\n",
       "      <td>0.0</td>\n",
       "      <td>0</td>\n",
       "      <td>6</td>\n",
       "      <td>15000.0</td>\n",
       "      <td>Москва</td>\n",
       "      <td>0.05</td>\n",
       "    </tr>\n",
       "    <tr>\n",
       "      <th>4</th>\n",
       "      <td>TRAIN</td>\n",
       "      <td>5</td>\n",
       "      <td>1</td>\n",
       "      <td>1</td>\n",
       "      <td>0</td>\n",
       "      <td>52</td>\n",
       "      <td>6</td>\n",
       "      <td>Санкт-Петербург</td>\n",
       "      <td>42</td>\n",
       "      <td>5</td>\n",
       "      <td>...</td>\n",
       "      <td>N</td>\n",
       "      <td>0</td>\n",
       "      <td>0</td>\n",
       "      <td>0</td>\n",
       "      <td>0.0</td>\n",
       "      <td>0</td>\n",
       "      <td>0</td>\n",
       "      <td>50000.0</td>\n",
       "      <td>Ленинградская</td>\n",
       "      <td>0.17</td>\n",
       "    </tr>\n",
       "  </tbody>\n",
       "</table>\n",
       "<p>5 rows × 30 columns</p>\n",
       "</div>"
      ],
      "text/plain": [
       "  DATA_TYPE  POLICY_ID  POLICY_BEGIN_MONTH  POLICY_END_MONTH  \\\n",
       "0     TRAIN          1                   1                 1   \n",
       "1     TRAIN          2                   1                 1   \n",
       "2     TRAIN          3                   1                 1   \n",
       "3     TRAIN          4                   1                 1   \n",
       "4     TRAIN          5                   1                 1   \n",
       "\n",
       "   POLICY_IS_RENEWED  POLICY_SALES_CHANNEL  POLICY_SALES_CHANNEL_GROUP  \\\n",
       "0                  1                    39                           1   \n",
       "1                  1                    50                           5   \n",
       "2                  1                    52                           6   \n",
       "3                  1                    50                           5   \n",
       "4                  0                    52                           6   \n",
       "\n",
       "     POLICY_BRANCH  POLICY_MIN_AGE  POLICY_MIN_DRIVING_EXPERIENCE  ...  \\\n",
       "0           Москва              51                             12  ...   \n",
       "1           Москва              35                              7  ...   \n",
       "2           Москва              41                              6  ...   \n",
       "3           Москва              36                             12  ...   \n",
       "4  Санкт-Петербург              42                              5  ...   \n",
       "\n",
       "  POLICY_PRV_CLM_GLT_N CLIENT_HAS_DAGO  CLIENT_HAS_OSAGO  POLICY_COURT_SIGN  \\\n",
       "0                    N               1                 0                  0   \n",
       "1                    0               1                 1                  0   \n",
       "2                   1L               0                 0                  0   \n",
       "3                    0               1                 1                  0   \n",
       "4                    N               0                 0                  0   \n",
       "\n",
       "   CLAIM_AVG_ACC_ST_PRD POLICY_HAS_COMPLAINTS POLICY_YEARS_RENEWED_N  \\\n",
       "0                   0.0                     0                      0   \n",
       "1                   0.0                     0                      4   \n",
       "2                   0.0                     0                      1   \n",
       "3                   0.0                     0                      6   \n",
       "4                   0.0                     0                      0   \n",
       "\n",
       "  POLICY_DEDUCT_VALUE CLIENT_REGISTRATION_REGION POLICY_PRICE_CHANGE  \n",
       "0                 0.0                   Тульская               -1.00  \n",
       "1                 0.0                     Москва               -0.05  \n",
       "2             12518.0                 Московская               -0.07  \n",
       "3             15000.0                     Москва                0.05  \n",
       "4             50000.0              Ленинградская                0.17  \n",
       "\n",
       "[5 rows x 30 columns]"
      ]
     },
     "execution_count": 84,
     "metadata": {},
     "output_type": "execute_result"
    }
   ],
   "source": [
    "df.head()"
   ]
  },
  {
   "cell_type": "code",
   "execution_count": null,
   "metadata": {},
   "outputs": [],
   "source": []
  },
  {
   "cell_type": "code",
   "execution_count": 36,
   "metadata": {},
   "outputs": [
    {
     "name": "stdout",
     "output_type": "stream",
     "text": [
      "<class 'pandas.core.frame.DataFrame'>\n",
      "Int64Index: 63300 entries, 1 to 96603\n",
      "Data columns (total 19 columns):\n",
      " #   Column                         Non-Null Count  Dtype  \n",
      "---  ------                         --------------  -----  \n",
      " 0   POLICY_IS_RENEWED              63300 non-null  int64  \n",
      " 1   POLICY_SALES_CHANNEL           63300 non-null  int64  \n",
      " 2   POLICY_SALES_CHANNEL_GROUP     63300 non-null  int64  \n",
      " 3   POLICY_BRANCH                  63300 non-null  object \n",
      " 4   POLICY_MIN_AGE                 63300 non-null  int64  \n",
      " 5   POLICY_MIN_DRIVING_EXPERIENCE  63300 non-null  int64  \n",
      " 6   VEHICLE_ENGINE_POWER           63300 non-null  float64\n",
      " 7   VEHICLE_IN_CREDIT              63300 non-null  int64  \n",
      " 8   VEHICLE_SUM_INSURED            63300 non-null  float64\n",
      " 9   INSURER_GENDER                 63300 non-null  object \n",
      " 10  POLICY_CLM_N                   63300 non-null  object \n",
      " 11  CLIENT_HAS_DAGO                63300 non-null  int64  \n",
      " 12  CLIENT_HAS_OSAGO               63300 non-null  int64  \n",
      " 13  POLICY_COURT_SIGN              63300 non-null  int64  \n",
      " 14  POLICY_HAS_COMPLAINTS          63300 non-null  int64  \n",
      " 15  POLICY_YEARS_RENEWED_N         63300 non-null  object \n",
      " 16  POLICY_DEDUCT_VALUE            63300 non-null  float64\n",
      " 17  CLIENT_REGISTRATION_REGION     63300 non-null  object \n",
      " 18  POLICY_PRICE_CHANGE            63300 non-null  float64\n",
      "dtypes: float64(4), int64(10), object(5)\n",
      "memory usage: 9.7+ MB\n"
     ]
    }
   ],
   "source": [
    "df.info()"
   ]
  },
  {
   "cell_type": "code",
   "execution_count": 6,
   "metadata": {},
   "outputs": [
    {
     "data": {
      "text/html": [
       "<div>\n",
       "<style scoped>\n",
       "    .dataframe tbody tr th:only-of-type {\n",
       "        vertical-align: middle;\n",
       "    }\n",
       "\n",
       "    .dataframe tbody tr th {\n",
       "        vertical-align: top;\n",
       "    }\n",
       "\n",
       "    .dataframe thead th {\n",
       "        text-align: right;\n",
       "    }\n",
       "</style>\n",
       "<table border=\"1\" class=\"dataframe\">\n",
       "  <thead>\n",
       "    <tr style=\"text-align: right;\">\n",
       "      <th></th>\n",
       "      <th>POLICY_ID</th>\n",
       "      <th>POLICY_BEGIN_MONTH</th>\n",
       "      <th>POLICY_END_MONTH</th>\n",
       "      <th>POLICY_IS_RENEWED</th>\n",
       "      <th>POLICY_SALES_CHANNEL</th>\n",
       "      <th>POLICY_SALES_CHANNEL_GROUP</th>\n",
       "      <th>POLICY_MIN_AGE</th>\n",
       "      <th>POLICY_MIN_DRIVING_EXPERIENCE</th>\n",
       "      <th>VEHICLE_ENGINE_POWER</th>\n",
       "      <th>VEHICLE_IN_CREDIT</th>\n",
       "      <th>VEHICLE_SUM_INSURED</th>\n",
       "      <th>CLIENT_HAS_DAGO</th>\n",
       "      <th>CLIENT_HAS_OSAGO</th>\n",
       "      <th>POLICY_COURT_SIGN</th>\n",
       "      <th>CLAIM_AVG_ACC_ST_PRD</th>\n",
       "      <th>POLICY_HAS_COMPLAINTS</th>\n",
       "      <th>POLICY_DEDUCT_VALUE</th>\n",
       "      <th>POLICY_PRICE_CHANGE</th>\n",
       "    </tr>\n",
       "  </thead>\n",
       "  <tbody>\n",
       "    <tr>\n",
       "      <th>count</th>\n",
       "      <td>96605.000000</td>\n",
       "      <td>96605.000000</td>\n",
       "      <td>96605.000000</td>\n",
       "      <td>96605.000000</td>\n",
       "      <td>96605.000000</td>\n",
       "      <td>96605.000000</td>\n",
       "      <td>96605.000000</td>\n",
       "      <td>96605.000000</td>\n",
       "      <td>96605.000000</td>\n",
       "      <td>96605.000000</td>\n",
       "      <td>9.660500e+04</td>\n",
       "      <td>96605.000000</td>\n",
       "      <td>96605.000000</td>\n",
       "      <td>96605.000000</td>\n",
       "      <td>96605.000000</td>\n",
       "      <td>96605.000000</td>\n",
       "      <td>96605.000000</td>\n",
       "      <td>96605.000000</td>\n",
       "    </tr>\n",
       "    <tr>\n",
       "      <th>mean</th>\n",
       "      <td>48303.000000</td>\n",
       "      <td>6.891393</td>\n",
       "      <td>6.870400</td>\n",
       "      <td>0.500761</td>\n",
       "      <td>47.345251</td>\n",
       "      <td>5.123265</td>\n",
       "      <td>42.580767</td>\n",
       "      <td>34.910357</td>\n",
       "      <td>154.195851</td>\n",
       "      <td>0.321950</td>\n",
       "      <td>9.806700e+05</td>\n",
       "      <td>0.277480</td>\n",
       "      <td>0.550303</td>\n",
       "      <td>0.001014</td>\n",
       "      <td>3.877110</td>\n",
       "      <td>0.007660</td>\n",
       "      <td>5974.134461</td>\n",
       "      <td>-0.033025</td>\n",
       "    </tr>\n",
       "    <tr>\n",
       "      <th>std</th>\n",
       "      <td>27887.605715</td>\n",
       "      <td>3.400597</td>\n",
       "      <td>3.403665</td>\n",
       "      <td>0.500002</td>\n",
       "      <td>14.034159</td>\n",
       "      <td>1.585213</td>\n",
       "      <td>10.694670</td>\n",
       "      <td>199.928966</td>\n",
       "      <td>54.117543</td>\n",
       "      <td>0.467226</td>\n",
       "      <td>6.900919e+05</td>\n",
       "      <td>0.447758</td>\n",
       "      <td>0.497466</td>\n",
       "      <td>0.031834</td>\n",
       "      <td>17.635091</td>\n",
       "      <td>0.087186</td>\n",
       "      <td>10418.697183</td>\n",
       "      <td>0.857995</td>\n",
       "    </tr>\n",
       "    <tr>\n",
       "      <th>min</th>\n",
       "      <td>1.000000</td>\n",
       "      <td>1.000000</td>\n",
       "      <td>1.000000</td>\n",
       "      <td>0.000000</td>\n",
       "      <td>1.000000</td>\n",
       "      <td>1.000000</td>\n",
       "      <td>18.000000</td>\n",
       "      <td>0.000000</td>\n",
       "      <td>0.000000</td>\n",
       "      <td>0.000000</td>\n",
       "      <td>0.000000e+00</td>\n",
       "      <td>0.000000</td>\n",
       "      <td>0.000000</td>\n",
       "      <td>0.000000</td>\n",
       "      <td>0.000000</td>\n",
       "      <td>0.000000</td>\n",
       "      <td>0.000000</td>\n",
       "      <td>-1.000000</td>\n",
       "    </tr>\n",
       "    <tr>\n",
       "      <th>25%</th>\n",
       "      <td>24152.000000</td>\n",
       "      <td>4.000000</td>\n",
       "      <td>4.000000</td>\n",
       "      <td>0.000000</td>\n",
       "      <td>50.000000</td>\n",
       "      <td>5.000000</td>\n",
       "      <td>34.000000</td>\n",
       "      <td>8.000000</td>\n",
       "      <td>123.000000</td>\n",
       "      <td>0.000000</td>\n",
       "      <td>5.584960e+05</td>\n",
       "      <td>0.000000</td>\n",
       "      <td>0.000000</td>\n",
       "      <td>0.000000</td>\n",
       "      <td>0.000000</td>\n",
       "      <td>0.000000</td>\n",
       "      <td>0.000000</td>\n",
       "      <td>-0.170000</td>\n",
       "    </tr>\n",
       "    <tr>\n",
       "      <th>50%</th>\n",
       "      <td>48303.000000</td>\n",
       "      <td>7.000000</td>\n",
       "      <td>7.000000</td>\n",
       "      <td>1.000000</td>\n",
       "      <td>52.000000</td>\n",
       "      <td>6.000000</td>\n",
       "      <td>41.000000</td>\n",
       "      <td>14.000000</td>\n",
       "      <td>146.000000</td>\n",
       "      <td>0.000000</td>\n",
       "      <td>8.090000e+05</td>\n",
       "      <td>0.000000</td>\n",
       "      <td>1.000000</td>\n",
       "      <td>0.000000</td>\n",
       "      <td>0.000000</td>\n",
       "      <td>0.000000</td>\n",
       "      <td>0.000000</td>\n",
       "      <td>0.000000</td>\n",
       "    </tr>\n",
       "    <tr>\n",
       "      <th>75%</th>\n",
       "      <td>72454.000000</td>\n",
       "      <td>10.000000</td>\n",
       "      <td>10.000000</td>\n",
       "      <td>1.000000</td>\n",
       "      <td>53.000000</td>\n",
       "      <td>6.000000</td>\n",
       "      <td>50.000000</td>\n",
       "      <td>19.000000</td>\n",
       "      <td>171.000000</td>\n",
       "      <td>1.000000</td>\n",
       "      <td>1.163900e+06</td>\n",
       "      <td>1.000000</td>\n",
       "      <td>1.000000</td>\n",
       "      <td>0.000000</td>\n",
       "      <td>0.000000</td>\n",
       "      <td>0.000000</td>\n",
       "      <td>10000.000000</td>\n",
       "      <td>0.050000</td>\n",
       "    </tr>\n",
       "    <tr>\n",
       "      <th>max</th>\n",
       "      <td>96605.000000</td>\n",
       "      <td>12.000000</td>\n",
       "      <td>12.000000</td>\n",
       "      <td>1.000000</td>\n",
       "      <td>63.000000</td>\n",
       "      <td>8.000000</td>\n",
       "      <td>86.000000</td>\n",
       "      <td>2015.000000</td>\n",
       "      <td>2000.000000</td>\n",
       "      <td>1.000000</td>\n",
       "      <td>9.449000e+06</td>\n",
       "      <td>1.000000</td>\n",
       "      <td>1.000000</td>\n",
       "      <td>1.000000</td>\n",
       "      <td>737.000000</td>\n",
       "      <td>1.000000</td>\n",
       "      <td>120873.000000</td>\n",
       "      <td>60.020000</td>\n",
       "    </tr>\n",
       "  </tbody>\n",
       "</table>\n",
       "</div>"
      ],
      "text/plain": [
       "          POLICY_ID  POLICY_BEGIN_MONTH  POLICY_END_MONTH  POLICY_IS_RENEWED  \\\n",
       "count  96605.000000        96605.000000      96605.000000       96605.000000   \n",
       "mean   48303.000000            6.891393          6.870400           0.500761   \n",
       "std    27887.605715            3.400597          3.403665           0.500002   \n",
       "min        1.000000            1.000000          1.000000           0.000000   \n",
       "25%    24152.000000            4.000000          4.000000           0.000000   \n",
       "50%    48303.000000            7.000000          7.000000           1.000000   \n",
       "75%    72454.000000           10.000000         10.000000           1.000000   \n",
       "max    96605.000000           12.000000         12.000000           1.000000   \n",
       "\n",
       "       POLICY_SALES_CHANNEL  POLICY_SALES_CHANNEL_GROUP  POLICY_MIN_AGE  \\\n",
       "count          96605.000000                96605.000000    96605.000000   \n",
       "mean              47.345251                    5.123265       42.580767   \n",
       "std               14.034159                    1.585213       10.694670   \n",
       "min                1.000000                    1.000000       18.000000   \n",
       "25%               50.000000                    5.000000       34.000000   \n",
       "50%               52.000000                    6.000000       41.000000   \n",
       "75%               53.000000                    6.000000       50.000000   \n",
       "max               63.000000                    8.000000       86.000000   \n",
       "\n",
       "       POLICY_MIN_DRIVING_EXPERIENCE  VEHICLE_ENGINE_POWER  VEHICLE_IN_CREDIT  \\\n",
       "count                   96605.000000          96605.000000       96605.000000   \n",
       "mean                       34.910357            154.195851           0.321950   \n",
       "std                       199.928966             54.117543           0.467226   \n",
       "min                         0.000000              0.000000           0.000000   \n",
       "25%                         8.000000            123.000000           0.000000   \n",
       "50%                        14.000000            146.000000           0.000000   \n",
       "75%                        19.000000            171.000000           1.000000   \n",
       "max                      2015.000000           2000.000000           1.000000   \n",
       "\n",
       "       VEHICLE_SUM_INSURED  CLIENT_HAS_DAGO  CLIENT_HAS_OSAGO  \\\n",
       "count         9.660500e+04     96605.000000      96605.000000   \n",
       "mean          9.806700e+05         0.277480          0.550303   \n",
       "std           6.900919e+05         0.447758          0.497466   \n",
       "min           0.000000e+00         0.000000          0.000000   \n",
       "25%           5.584960e+05         0.000000          0.000000   \n",
       "50%           8.090000e+05         0.000000          1.000000   \n",
       "75%           1.163900e+06         1.000000          1.000000   \n",
       "max           9.449000e+06         1.000000          1.000000   \n",
       "\n",
       "       POLICY_COURT_SIGN  CLAIM_AVG_ACC_ST_PRD  POLICY_HAS_COMPLAINTS  \\\n",
       "count       96605.000000          96605.000000           96605.000000   \n",
       "mean            0.001014              3.877110               0.007660   \n",
       "std             0.031834             17.635091               0.087186   \n",
       "min             0.000000              0.000000               0.000000   \n",
       "25%             0.000000              0.000000               0.000000   \n",
       "50%             0.000000              0.000000               0.000000   \n",
       "75%             0.000000              0.000000               0.000000   \n",
       "max             1.000000            737.000000               1.000000   \n",
       "\n",
       "       POLICY_DEDUCT_VALUE  POLICY_PRICE_CHANGE  \n",
       "count         96605.000000         96605.000000  \n",
       "mean           5974.134461            -0.033025  \n",
       "std           10418.697183             0.857995  \n",
       "min               0.000000            -1.000000  \n",
       "25%               0.000000            -0.170000  \n",
       "50%               0.000000             0.000000  \n",
       "75%           10000.000000             0.050000  \n",
       "max          120873.000000            60.020000  "
      ]
     },
     "execution_count": 6,
     "metadata": {},
     "output_type": "execute_result"
    }
   ],
   "source": [
    "df.describe()"
   ]
  },
  {
   "cell_type": "code",
   "execution_count": 37,
   "metadata": {},
   "outputs": [
    {
     "data": {
      "text/plain": [
       "POLICY_IS_RENEWED                    2\n",
       "POLICY_SALES_CHANNEL                61\n",
       "POLICY_SALES_CHANNEL_GROUP           8\n",
       "POLICY_BRANCH                        2\n",
       "POLICY_MIN_AGE                      68\n",
       "POLICY_MIN_DRIVING_EXPERIENCE       60\n",
       "VEHICLE_ENGINE_POWER               194\n",
       "VEHICLE_IN_CREDIT                    2\n",
       "VEHICLE_SUM_INSURED              34898\n",
       "INSURER_GENDER                       2\n",
       "POLICY_CLM_N                         6\n",
       "CLIENT_HAS_DAGO                      2\n",
       "CLIENT_HAS_OSAGO                     2\n",
       "POLICY_COURT_SIGN                    2\n",
       "POLICY_HAS_COMPLAINTS                2\n",
       "POLICY_YEARS_RENEWED_N              10\n",
       "POLICY_DEDUCT_VALUE                188\n",
       "CLIENT_REGISTRATION_REGION          82\n",
       "POLICY_PRICE_CHANGE                417\n",
       "dtype: int64"
      ]
     },
     "execution_count": 37,
     "metadata": {},
     "output_type": "execute_result"
    }
   ],
   "source": [
    "df.nunique()"
   ]
  },
  {
   "cell_type": "code",
   "execution_count": 8,
   "metadata": {},
   "outputs": [
    {
     "data": {
      "text/plain": [
       "Index(['DATA_TYPE', 'POLICY_ID', 'POLICY_BEGIN_MONTH', 'POLICY_END_MONTH',\n",
       "       'POLICY_IS_RENEWED', 'POLICY_SALES_CHANNEL',\n",
       "       'POLICY_SALES_CHANNEL_GROUP', 'POLICY_BRANCH', 'POLICY_MIN_AGE',\n",
       "       'POLICY_MIN_DRIVING_EXPERIENCE', 'VEHICLE_MAKE', 'VEHICLE_MODEL',\n",
       "       'VEHICLE_ENGINE_POWER', 'VEHICLE_IN_CREDIT', 'VEHICLE_SUM_INSURED',\n",
       "       'POLICY_INTERMEDIARY', 'INSURER_GENDER', 'POLICY_CLM_N',\n",
       "       'POLICY_CLM_GLT_N', 'POLICY_PRV_CLM_N', 'POLICY_PRV_CLM_GLT_N',\n",
       "       'CLIENT_HAS_DAGO', 'CLIENT_HAS_OSAGO', 'POLICY_COURT_SIGN',\n",
       "       'CLAIM_AVG_ACC_ST_PRD', 'POLICY_HAS_COMPLAINTS',\n",
       "       'POLICY_YEARS_RENEWED_N', 'POLICY_DEDUCT_VALUE',\n",
       "       'CLIENT_REGISTRATION_REGION', 'POLICY_PRICE_CHANGE'],\n",
       "      dtype='object')"
      ]
     },
     "execution_count": 8,
     "metadata": {},
     "output_type": "execute_result"
    }
   ],
   "source": [
    "df.columns"
   ]
  },
  {
   "cell_type": "code",
   "execution_count": 9,
   "metadata": {},
   "outputs": [],
   "source": [
    "df = df.drop('POLICY_ID',axis=1)"
   ]
  },
  {
   "cell_type": "code",
   "execution_count": 10,
   "metadata": {},
   "outputs": [],
   "source": [
    "df= df.drop('DATA_TYPE',axis=1)"
   ]
  },
  {
   "cell_type": "code",
   "execution_count": 11,
   "metadata": {},
   "outputs": [],
   "source": [
    "df = df[~df['POLICY_YEARS_RENEWED_N'].isin(['N'])]"
   ]
  },
  {
   "cell_type": "code",
   "execution_count": 12,
   "metadata": {},
   "outputs": [],
   "source": [
    "df.loc[df['VEHICLE_ENGINE_POWER']>250,'VEHICLE_ENGINE_POWER'] = df[df['VEHICLE_ENGINE_POWER']>250]['VEHICLE_ENGINE_POWER'].apply(lambda x:df['VEHICLE_ENGINE_POWER'].mean())"
   ]
  },
  {
   "cell_type": "code",
   "execution_count": 13,
   "metadata": {},
   "outputs": [],
   "source": [
    "df.loc[df['POLICY_MIN_DRIVING_EXPERIENCE']>60,'POLICY_MIN_DRIVING_EXPERIENCE'] = df[df['POLICY_MIN_DRIVING_EXPERIENCE']>60]['POLICY_MIN_DRIVING_EXPERIENCE'].apply(lambda x: 2021-x)"
   ]
  },
  {
   "cell_type": "code",
   "execution_count": 14,
   "metadata": {},
   "outputs": [],
   "source": [
    "df = df.drop('POLICY_INTERMEDIARY',axis=1)"
   ]
  },
  {
   "cell_type": "code",
   "execution_count": 15,
   "metadata": {},
   "outputs": [],
   "source": [
    "df = df.drop('VEHICLE_MODEL',axis=1)"
   ]
  },
  {
   "cell_type": "code",
   "execution_count": 16,
   "metadata": {},
   "outputs": [
    {
     "data": {
      "text/plain": [
       "0.000000      75027\n",
       "1.000000       2406\n",
       "2.000000       1597\n",
       "3.000000       1427\n",
       "4.000000       1309\n",
       "              ...  \n",
       "335.000000        1\n",
       "187.666667        1\n",
       "4.857143          1\n",
       "152.500000        1\n",
       "287.000000        1\n",
       "Name: CLAIM_AVG_ACC_ST_PRD, Length: 709, dtype: int64"
      ]
     },
     "execution_count": 16,
     "metadata": {},
     "output_type": "execute_result"
    }
   ],
   "source": [
    "df['CLAIM_AVG_ACC_ST_PRD'].value_counts()"
   ]
  },
  {
   "cell_type": "code",
   "execution_count": 17,
   "metadata": {},
   "outputs": [],
   "source": [
    "df = df.drop('CLAIM_AVG_ACC_ST_PRD',axis=1)"
   ]
  },
  {
   "cell_type": "code",
   "execution_count": 18,
   "metadata": {},
   "outputs": [],
   "source": [
    "df = df[~df['POLICY_YEARS_RENEWED_N'].isin(['N'])]"
   ]
  },
  {
   "cell_type": "code",
   "execution_count": 19,
   "metadata": {},
   "outputs": [],
   "source": [
    "df = df[~df['POLICY_CLM_N'].isin(['N'])]"
   ]
  },
  {
   "cell_type": "code",
   "execution_count": 20,
   "metadata": {},
   "outputs": [],
   "source": [
    "df = df[~df['POLICY_PRV_CLM_N'].isin(['N'])]"
   ]
  },
  {
   "cell_type": "code",
   "execution_count": 21,
   "metadata": {},
   "outputs": [],
   "source": [
    "df = df[~df['POLICY_PRV_CLM_GLT_N'].isin(['N'])]"
   ]
  },
  {
   "cell_type": "code",
   "execution_count": 28,
   "metadata": {},
   "outputs": [],
   "source": [
    "df = df.drop('VEHICLE_MAKE',axis=1)"
   ]
  },
  {
   "cell_type": "code",
   "execution_count": 38,
   "metadata": {},
   "outputs": [],
   "source": [
    "df = df.drop('POLICY_CLM_N',axis=1)"
   ]
  },
  {
   "cell_type": "code",
   "execution_count": 31,
   "metadata": {},
   "outputs": [],
   "source": [
    "df = df.drop('POLICY_CLM_GLT_N',axis=1)"
   ]
  },
  {
   "cell_type": "code",
   "execution_count": 32,
   "metadata": {},
   "outputs": [],
   "source": [
    "df = df.drop('POLICY_PRV_CLM_N',axis=1)"
   ]
  },
  {
   "cell_type": "code",
   "execution_count": 33,
   "metadata": {},
   "outputs": [],
   "source": [
    "df = df.drop('POLICY_PRV_CLM_GLT_N',axis=1)"
   ]
  },
  {
   "cell_type": "code",
   "execution_count": 34,
   "metadata": {},
   "outputs": [],
   "source": [
    "df = df.drop('POLICY_BEGIN_MONTH',axis=1)"
   ]
  },
  {
   "cell_type": "code",
   "execution_count": 35,
   "metadata": {},
   "outputs": [],
   "source": [
    "df = df.drop('POLICY_END_MONTH',axis=1)"
   ]
  },
  {
   "cell_type": "code",
   "execution_count": 60,
   "metadata": {},
   "outputs": [],
   "source": [
    "df = df.drop('CLIENT_REGISTRATION_REGION',axis=1)"
   ]
  },
  {
   "cell_type": "code",
   "execution_count": 61,
   "metadata": {},
   "outputs": [],
   "source": [
    "df.to_csv('for_model.csv')"
   ]
  },
  {
   "cell_type": "code",
   "execution_count": 62,
   "metadata": {},
   "outputs": [],
   "source": [
    "df = pd.read_csv('for_model.csv')"
   ]
  },
  {
   "cell_type": "code",
   "execution_count": 63,
   "metadata": {},
   "outputs": [],
   "source": [
    "df = df.drop('Unnamed: 0',axis=1)"
   ]
  },
  {
   "cell_type": "code",
   "execution_count": 64,
   "metadata": {},
   "outputs": [],
   "source": [
    "X = df.drop('POLICY_IS_RENEWED',axis=1)\n",
    "y = df['POLICY_IS_RENEWED']"
   ]
  },
  {
   "cell_type": "code",
   "execution_count": 65,
   "metadata": {},
   "outputs": [],
   "source": [
    "X = pd.get_dummies(X,drop_first=True)"
   ]
  },
  {
   "cell_type": "code",
   "execution_count": 66,
   "metadata": {},
   "outputs": [],
   "source": [
    "from sklearn.model_selection import train_test_split\n",
    "X_train, X_test, y_train, y_test = train_test_split(X, y, test_size=0.2, random_state=42)"
   ]
  },
  {
   "cell_type": "code",
   "execution_count": 67,
   "metadata": {},
   "outputs": [],
   "source": [
    "classifier = ensemble.RandomForestClassifier(n_jobs=-1,\n",
    "                                             max_depth=14,\n",
    "                                             n_estimators=1099,\n",
    "                                             min_samples_leaf=17,\n",
    "                                             criterion='entropy',\n",
    "                                             max_features=0.23682242221537178)"
   ]
  },
  {
   "cell_type": "code",
   "execution_count": 68,
   "metadata": {},
   "outputs": [
    {
     "data": {
      "text/plain": [
       "RandomForestClassifier(criterion='entropy', max_depth=14,\n",
       "                       max_features=0.23682242221537178, min_samples_leaf=17,\n",
       "                       n_estimators=1099, n_jobs=-1)"
      ]
     },
     "execution_count": 68,
     "metadata": {},
     "output_type": "execute_result"
    }
   ],
   "source": [
    "classifier.fit(X_train,y_train)"
   ]
  },
  {
   "cell_type": "code",
   "execution_count": 69,
   "metadata": {},
   "outputs": [],
   "source": [
    "y_preds = classifier.predict(X_test)"
   ]
  },
  {
   "cell_type": "code",
   "execution_count": 70,
   "metadata": {},
   "outputs": [],
   "source": [
    "from sklearn.metrics import classification_report,confusion_matrix, plot_confusion_matrix"
   ]
  },
  {
   "cell_type": "code",
   "execution_count": 71,
   "metadata": {},
   "outputs": [
    {
     "name": "stdout",
     "output_type": "stream",
     "text": [
      "              precision    recall  f1-score   support\n",
      "\n",
      "           0       0.67      0.31      0.43      5800\n",
      "           1       0.60      0.87      0.71      6860\n",
      "\n",
      "    accuracy                           0.61     12660\n",
      "   macro avg       0.64      0.59      0.57     12660\n",
      "weighted avg       0.63      0.61      0.58     12660\n",
      "\n"
     ]
    }
   ],
   "source": [
    "print(classification_report(y_test,y_preds))"
   ]
  },
  {
   "cell_type": "code",
   "execution_count": 72,
   "metadata": {},
   "outputs": [
    {
     "data": {
      "text/plain": [
       "array([[1805, 3995],\n",
       "       [ 880, 5980]], dtype=int64)"
      ]
     },
     "execution_count": 72,
     "metadata": {},
     "output_type": "execute_result"
    }
   ],
   "source": [
    "confusion_matrix(y_test,y_preds)"
   ]
  },
  {
   "cell_type": "code",
   "execution_count": 73,
   "metadata": {},
   "outputs": [
    {
     "data": {
      "text/plain": [
       "<sklearn.metrics._plot.confusion_matrix.ConfusionMatrixDisplay at 0x28d80e10280>"
      ]
     },
     "execution_count": 73,
     "metadata": {},
     "output_type": "execute_result"
    },
    {
     "data": {
      "image/png": "[encoded data removed]",
      "text/plain": [
       "<Figure size 432x288 with 2 Axes>"
      ]
     },
     "metadata": {
      "needs_background": "light"
     },
     "output_type": "display_data"
    }
   ],
   "source": [
    "plot_confusion_matrix(classifier,X_test,y_test)"
   ]
  },
  {
   "cell_type": "code",
   "execution_count": 74,
   "metadata": {},
   "outputs": [
    {
     "data": {
      "text/plain": [
       "<AxesSubplot:>"
      ]
     },
     "execution_count": 74,
     "metadata": {},
     "output_type": "execute_result"
    },
    {
     "data": {
      "image/png": "[encoded data removed]",
      "text/plain": [
       "<Figure size 1800x1200 with 1 Axes>"
      ]
     },
     "metadata": {
      "needs_background": "light"
     },
     "output_type": "display_data"
    }
   ],
   "source": [
    "plt.figure(figsize=(12,8),dpi=150)\n",
    "feat_importances = pd.Series(classifier.feature_importances_, index=X.columns)\n",
    "feat_importances.nlargest(30).plot(kind='barh')"
   ]
  },
  {
   "cell_type": "code",
   "execution_count": 75,
   "metadata": {},
   "outputs": [],
   "source": [
    "final_model = ensemble.RandomForestClassifier(n_jobs=-1,\n",
    "                                             max_depth=14,\n",
    "                                             n_estimators=1099,\n",
    "                                             min_samples_leaf=17,\n",
    "                                             criterion='entropy',\n",
    "                                             max_features=0.23682242221537178)"
   ]
  },
  {
   "cell_type": "code",
   "execution_count": 76,
   "metadata": {},
   "outputs": [
    {
     "data": {
      "text/plain": [
       "RandomForestClassifier(criterion='entropy', max_depth=14,\n",
       "                       max_features=0.23682242221537178, min_samples_leaf=17,\n",
       "                       n_estimators=1099, n_jobs=-1)"
      ]
     },
     "execution_count": 76,
     "metadata": {},
     "output_type": "execute_result"
    }
   ],
   "source": [
    "final_model.fit(X,y)"
   ]
  },
  {
   "cell_type": "code",
   "execution_count": 77,
   "metadata": {},
   "outputs": [],
   "source": [
    "import joblib"
   ]
  },
  {
   "cell_type": "code",
   "execution_count": 78,
   "metadata": {},
   "outputs": [
    {
     "data": {
      "text/plain": [
       "['final_model.pkl']"
      ]
     },
     "execution_count": 78,
     "metadata": {},
     "output_type": "execute_result"
    }
   ],
   "source": [
    "joblib.dump(final_model,'final_model.pkl')"
   ]
  },
  {
   "cell_type": "code",
   "execution_count": 80,
   "metadata": {},
   "outputs": [
    {
     "data": {
      "text/plain": [
       "['POLICY_SALES_CHANNEL',\n",
       " 'POLICY_SALES_CHANNEL_GROUP',\n",
       " 'POLICY_MIN_AGE',\n",
       " 'POLICY_MIN_DRIVING_EXPERIENCE',\n",
       " 'VEHICLE_ENGINE_POWER',\n",
       " 'VEHICLE_IN_CREDIT',\n",
       " 'VEHICLE_SUM_INSURED',\n",
       " 'CLIENT_HAS_DAGO',\n",
       " 'CLIENT_HAS_OSAGO',\n",
       " 'POLICY_COURT_SIGN',\n",
       " 'POLICY_HAS_COMPLAINTS',\n",
       " 'POLICY_YEARS_RENEWED_N',\n",
       " 'POLICY_DEDUCT_VALUE',\n",
       " 'POLICY_PRICE_CHANGE',\n",
       " 'POLICY_BRANCH_Санкт-Петербург',\n",
       " 'INSURER_GENDER_M']"
      ]
     },
     "execution_count": 80,
     "metadata": {},
     "output_type": "execute_result"
    }
   ],
   "source": [
    "list(X.columns)"
   ]
  },
  {
   "cell_type": "code",
   "execution_count": 81,
   "metadata": {},
   "outputs": [
    {
     "data": {
      "text/plain": [
       "['col_names.pkl']"
      ]
     },
     "execution_count": 81,
     "metadata": {},
     "output_type": "execute_result"
    }
   ],
   "source": [
    "joblib.dump(list(X.columns),'col_names.pkl')"
   ]
  },
  {
   "cell_type": "code",
   "execution_count": null,
   "metadata": {},
   "outputs": [],
   "source": []
  }
 ],
 "metadata": {
  "kernelspec": {
   "display_name": "Python 3",
   "language": "python",
   "name": "python3"
  },
  "language_info": {
   "codemirror_mode": {
    "name": "ipython",
    "version": 3
   },
   "file_extension": ".py",
   "mimetype": "text/x-python",
   "name": "python",
   "nbconvert_exporter": "python",
   "pygments_lexer": "ipython3",
   "version": "3.8.5"
  }
 },
 "nbformat": 4,
 "nbformat_minor": 4
}
